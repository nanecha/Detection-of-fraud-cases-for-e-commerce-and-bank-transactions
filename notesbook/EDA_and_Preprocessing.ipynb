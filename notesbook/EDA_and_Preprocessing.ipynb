{
 "cells": [
  {
   "cell_type": "markdown",
   "id": "da24c660",
   "metadata": {},
   "source": [
    "# 1 - Data Analysis and Preprocessing\n",
    "Major activities performed in this section are:\n",
    "1.\tHandle Missing Values\n",
    "2.\tData Cleaning\n",
    "3.\tExploratory Data Analysis (EDA)\n",
    "4.\tMerge Datasets for Geolocation Analysis\n",
    "5.\tFeature Engineering\n",
    "6.\tData Transformation:\n",
    ".\n"
   ]
  },
  {
   "cell_type": "code",
   "execution_count": null,
   "id": "2479925b",
   "metadata": {},
   "outputs": [],
   "source": [
    "# "
   ]
  }
 ],
 "metadata": {
  "kernelspec": {
   "display_name": "week8",
   "language": "python",
   "name": "python3"
  },
  "language_info": {
   "name": "python",
   "version": "3.12.0"
  }
 },
 "nbformat": 4,
 "nbformat_minor": 5
}
