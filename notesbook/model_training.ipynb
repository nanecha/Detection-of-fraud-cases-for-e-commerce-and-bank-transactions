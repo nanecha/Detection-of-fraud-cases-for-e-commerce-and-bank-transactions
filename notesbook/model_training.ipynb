{
 "cells": [
  {
   "cell_type": "markdown",
   "id": "44b2f9f2",
   "metadata": {},
   "source": [
    "# Task 2 - Model selection  and Training"
   ]
  },
  {
   "cell_type": "markdown",
   "id": "a59f15ad",
   "metadata": {},
   "source": []
  },
  {
   "cell_type": "code",
   "execution_count": 4,
   "id": "02021796",
   "metadata": {},
   "outputs": [],
   "source": [
    "import pandas as pd\n",
    "import numpy as np\n",
    "import os\n",
    "import sys\n",
    "sys.path.append(os.path.abspath(os.path.join(os.getcwd(), '..')))\n",
    "from src.data_preprocessing import (\n",
    "    handle_missing_values, clean_data, merge_datasets,\n",
    "    engineer_features, transform_data\n",
    ")\n",
    "from src.model_training import main\n"
   ]
  },
  {
   "cell_type": "markdown",
   "id": "9f6e86c7",
   "metadata": {},
   "source": [
    "## Data Preparation:\n",
    "- From previous task i have already prepared and transformed data"
   ]
  },
  {
   "cell_type": "code",
   "execution_count": null,
   "id": "83c4a563",
   "metadata": {},
   "outputs": [],
   "source": [
    "\n",
    "# Load and preprocess data\n",
    "fraud_data = pd.read_html('fraud_data.html')[0]\n",
    "ip_data = pd.read_html('ip_data.html')[0]\n",
    "fraud_data = handle_missing_values(fraud_data)\n",
    "fraud_data = clean_data(fraud_data)\n",
    "fraud_data = merge_datasets(fraud_data, ip_data)\n",
    "fraud_data = engineer_features(fraud_data)\n",
    "X_transformed, y, preprocessor = transform_data(fraud_data, target_col='class', train=True)\n"
   ]
  },
  {
   "cell_type": "markdown",
   "id": "a2aa3cf7",
   "metadata": {},
   "source": [
    "# loading of prepared data\n",
    "# model selection \n",
    "# model training and evaluation\n"
   ]
  },
  {
   "cell_type": "code",
   "execution_count": null,
   "id": "032a540f",
   "metadata": {},
   "outputs": [
    {
     "name": "stdout",
     "output_type": "stream",
     "text": [
      "Model Evaluation Results:\n",
      "\n",
      "Logistic Regression:\n",
      "AUC-PR: 0.8036\n",
      "F1-Score: 0.6857\n",
      "Confusion Matrix:\n",
      "[[17734  9659]\n",
      " [ 8062 19330]]\n",
      "\n",
      "Random Forest:\n",
      "AUC-PR: 0.9878\n",
      "F1-Score: 0.9415\n",
      "Confusion Matrix:\n",
      "[[26583   810]\n",
      " [ 2306 25086]]\n",
      "\n",
      "Best Model: Random Forest\n",
      "Justification: The best model is chosen based on the highest F1-Score, as it balances precision and recall, which is critical for imbalanced data. AUC-PR is used as a secondary metric to evaluate performance on the minority class.\n"
     ]
    }
   ],
   "source": [
    "\n",
    "# Combine transformed features and target\n",
    "processed_data = pd.read_csv('F:/Detection-of-fraud-cases-for-e-commerce-and-bank-transactions/data/transformed_features.csv')\n",
    "processed_data['class'] = pd.read_csv('F:/Detection-of-fraud-cases-for-e-commerce-and-bank-transactions/data/target_labels.csv')\n",
    "# Run model training and evaluation\n",
    "models, results, best_model = main(processed_data)"
   ]
  }
 ],
 "metadata": {
  "kernelspec": {
   "display_name": "week8",
   "language": "python",
   "name": "python3"
  },
  "language_info": {
   "codemirror_mode": {
    "name": "ipython",
    "version": 3
   },
   "file_extension": ".py",
   "mimetype": "text/x-python",
   "name": "python",
   "nbconvert_exporter": "python",
   "pygments_lexer": "ipython3",
   "version": "3.12.0"
  }
 },
 "nbformat": 4,
 "nbformat_minor": 5
}
